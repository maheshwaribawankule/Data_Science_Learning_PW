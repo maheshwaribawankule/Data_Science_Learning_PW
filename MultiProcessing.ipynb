{
  "nbformat": 4,
  "nbformat_minor": 0,
  "metadata": {
    "colab": {
      "provenance": [],
      "authorship_tag": "ABX9TyPUbw0G3PP8jMnCsholRUg+",
      "include_colab_link": true
    },
    "kernelspec": {
      "name": "python3",
      "display_name": "Python 3"
    },
    "language_info": {
      "name": "python"
    }
  },
  "cells": [
    {
      "cell_type": "markdown",
      "metadata": {
        "id": "view-in-github",
        "colab_type": "text"
      },
      "source": [
        "<a href=\"https://colab.research.google.com/github/maheshwaribawankule/Data_Science_Learning_PW/blob/main/MultiProcessing.ipynb\" target=\"_parent\"><img src=\"https://colab.research.google.com/assets/colab-badge.svg\" alt=\"Open In Colab\"/></a>"
      ]
    },
    {
      "cell_type": "code",
      "execution_count": 1,
      "metadata": {
        "colab": {
          "base_uri": "https://localhost:8080/"
        },
        "id": "AKUmsh2g8i8x",
        "outputId": "e7356a8d-1548-4684-cf1d-1555a4305a26"
      },
      "outputs": [
        {
          "output_type": "stream",
          "name": "stdout",
          "text": [
            "Computing square of 1Computing square of 2\n",
            "\n",
            "Computing square of 3Computing square of 4\n",
            "\n",
            "Computing square of 5\n",
            "Computing cube of 1\n",
            "Computing cube of 2\n",
            "Computing cube of 3\n",
            "Computing cube of 4\n",
            "Computing cube of 5\n",
            "Squares: [1, 4, 9, 16, 25]\n",
            "Cubes: [1, 8, 27, 64, 125]\n"
          ]
        }
      ],
      "source": [
        "#Q.1 What is multiprocessing in python? Why is it useful?\n",
        "import multiprocessing\n",
        "import time\n",
        "\n",
        "def compute_square(number):\n",
        "    print(f\"Computing square of {number}\")\n",
        "    time.sleep(2)  # Simulate a time-consuming task\n",
        "    return number ** 2\n",
        "\n",
        "def compute_cube(number):\n",
        "    print(f\"Computing cube of {number}\")\n",
        "    time.sleep(2)  # Simulate a time-consuming task\n",
        "    return number ** 3\n",
        "\n",
        "def main():\n",
        "    numbers = [1, 2, 3, 4, 5]\n",
        "\n",
        "    # Create a pool of workers\n",
        "    with multiprocessing.Pool(processes=2) as pool:\n",
        "        # Map tasks to the pool\n",
        "        squares = pool.map(compute_square, numbers)\n",
        "        cubes = pool.map(compute_cube, numbers)\n",
        "\n",
        "    print(f\"Squares: {squares}\")\n",
        "    print(f\"Cubes: {cubes}\")\n",
        "\n",
        "if __name__ == \"__main__\":\n",
        "    main()\n"
      ]
    },
    {
      "cell_type": "code",
      "source": [
        "#Q.2 What are the differences between multiprocessing and multithreading?\n",
        "### Differences Between Multiprocessing and Multithreading\n",
        "\n",
        "Both **multiprocessing** and **multithreading** are techniques used to achieve concurrency in programming, but they differ significantly in their implementation and use cases.\n",
        "\n",
        "#### 1. **Basic Concept**\n",
        "\n",
        "- **Multiprocessing**:\n",
        "  - Involves running multiple processes simultaneously.\n",
        "  - Each process has its own memory space and Python interpreter.\n",
        "  - True parallelism is achieved since processes run independently of each other.\n",
        "\n",
        "- **Multithreading**:\n",
        "  - Involves running multiple threads within a single process.\n",
        "  - Threads share the same memory space and resources of the parent process.\n",
        "  - Parallelism is limited by the Global Interpreter Lock (GIL) in CPython, which prevents multiple threads from executing Python bytecodes simultaneously.\n",
        "\n",
        "#### 2. **Memory Space**\n",
        "\n",
        "- **Multiprocessing**:\n",
        "  - Each process has its own separate memory space.\n",
        "  - Communication between processes is typically achieved through inter-process communication (IPC) mechanisms such as pipes, queues, or shared memory.\n",
        "\n",
        "- **Multithreading**:\n",
        "  - Threads share the same memory space and resources within a process.\n",
        "  - Communication between threads is straightforward since they share the same memory, but it requires careful synchronization to avoid issues like race conditions and data corruption.\n",
        "\n",
        "#### 3. **Performance**\n",
        "\n",
        "- **Multiprocessing**:\n",
        "  - Can achieve true parallelism, making it suitable for CPU-bound tasks that require significant computation.\n",
        "  - Performance may benefit from running tasks concurrently across multiple CPU cores.\n",
        "\n",
        "- **Multithreading**:\n",
        "  - More suitable for I/O-bound tasks where threads spend time waiting for I/O operations (e.g., file reading/writing, network operations).\n",
        "  - CPU-bound tasks may not see significant performance improvements due to the GIL, which limits parallel execution in CPython.\n",
        "\n",
        "#### 4. **GIL (Global Interpreter Lock)**\n",
        "\n",
        "- **Multiprocessing**:\n",
        "  - Bypasses the GIL because each process has its own Python interpreter and memory space.\n",
        "  - True parallelism can be achieved in CPU-bound tasks.\n",
        "\n",
        "- **Multithreading**:\n",
        "  - Limited by the GIL in CPython, which prevents multiple threads from executing Python bytecodes in parallel.\n",
        "  - I/O-bound tasks can still benefit from multithreading despite the GIL.\n",
        "\n",
        "#### 5. **Resource Overhead**\n",
        "\n",
        "- **Multiprocessing**:\n",
        "  - Higher overhead due to the need to create and manage separate processes.\n",
        "  - Each process consumes additional memory and resources.\n",
        "\n",
        "- **Multithreading**:\n",
        "  - Lower overhead compared to multiprocessing since threads share the same memory space.\n",
        "  - Threads are generally lighter weight and more efficient to create and manage.\n",
        "\n",
        "#### 6. **Fault Tolerance**\n",
        "\n",
        "- **Multiprocessing**:\n",
        "  - Processes are isolated from each other, so a failure in one process does not directly affect others.\n",
        "  - Provides better fault tolerance and isolation.\n",
        "\n",
        "- **Multithreading**:\n",
        "  - Threads share the same memory space, so a failure or crash in one thread can potentially impact other threads in the same process.\n",
        "\n",
        "#### 7. **Use Cases**\n",
        "\n",
        "- **Multiprocessing**:\n",
        "  - Ideal for CPU-bound tasks that require significant computation and can be parallelized (e.g., data processing, complex calculations).\n",
        "\n",
        "- **Multithreading**:\n",
        "  - Ideal for I/O-bound tasks where the program spends a lot of time waiting for I/O operations (e.g., network requests, file operations).\n",
        "\n",
        "### Summary\n",
        "\n",
        "| Aspect                | Multiprocessing                                  | Multithreading                                  |\n",
        "|-----------------------|--------------------------------------------------|-------------------------------------------------|\n",
        "| **Basic Concept**     | Multiple processes run concurrently              | Multiple threads run within a single process   |\n",
        "| **Memory Space**      | Separate memory space for each process           | Shared memory space among threads              |\n",
        "| **Performance**       | True parallelism, better for CPU-bound tasks     | Limited parallelism due to GIL, better for I/O-bound tasks |\n",
        "| **GIL**               | Bypasses GIL, true parallelism                   | Limited by GIL in CPython                      |\n",
        "| **Resource Overhead** | Higher, due to separate processes                | Lower, due to shared memory space              |\n",
        "| **Fault Tolerance**   | Better isolation, failure in one process doesn’t affect others | Failure in one thread can affect others       |\n",
        "| **Use Cases**         | CPU-bound tasks (e.g., data processing)         | I/O-bound tasks (e.g., network requests)       |\n",
        "\n",
        "Choosing between multiprocessing and multithreading depends on the nature of the tasks (CPU-bound vs. I/O-bound), the need for parallelism, and resource considerations."
      ],
      "metadata": {
        "id": "zoY6fm-o8wLh"
      },
      "execution_count": null,
      "outputs": []
    },
    {
      "cell_type": "code",
      "source": [
        "#Q.3 Write a python code to create a process using the multiprocessing module.\n",
        "import multiprocessing\n",
        "import time\n",
        "\n",
        "def print_numbers():\n",
        "    for i in range(1, 6):\n",
        "        print(f\"Number: {i}\")\n",
        "        time.sleep(1)  # Simulate a time-consuming task\n",
        "\n",
        "if __name__ == \"__main__\":\n",
        "    # Create a new process\n",
        "    process = multiprocessing.Process(target=print_numbers)\n",
        "\n",
        "    # Start the process\n",
        "    process.start()\n",
        "\n",
        "    # Wait for the process to complete\n",
        "    process.join()\n",
        "\n",
        "    print(\"Process has finished execution\")\n"
      ],
      "metadata": {
        "colab": {
          "base_uri": "https://localhost:8080/"
        },
        "id": "nMm7wsQO9BmO",
        "outputId": "d52230d3-aea2-4869-84da-f70fc8862cd8"
      },
      "execution_count": 2,
      "outputs": [
        {
          "output_type": "stream",
          "name": "stdout",
          "text": [
            "Number: 1\n",
            "Number: 2\n",
            "Number: 3\n",
            "Number: 4\n",
            "Number: 5\n",
            "Process has finished execution\n"
          ]
        }
      ]
    },
    {
      "cell_type": "code",
      "source": [
        "#Q.4 What is a multiprocessing pool in python? Why is it used?\n",
        "\n",
        "import multiprocessing\n",
        "\n",
        "def compute_square(number):\n",
        "    return number ** 2\n",
        "\n",
        "def compute_cube(number):\n",
        "    return number ** 3\n",
        "\n",
        "def main():\n",
        "    numbers = [1, 2, 3, 4, 5]\n",
        "\n",
        "    # Create a pool of worker processes\n",
        "    with multiprocessing.Pool(processes=4) as pool:\n",
        "        # Map the function to the numbers list and get the results\n",
        "        squares = pool.map(compute_square, numbers)\n",
        "        cubes = pool.map(compute_cube, numbers)\n",
        "\n",
        "    print(f\"Squares: {squares}\")\n",
        "    print(f\"Cubes: {cubes}\")\n",
        "\n",
        "if __name__ == \"__main__\":\n",
        "    main()\n"
      ],
      "metadata": {
        "colab": {
          "base_uri": "https://localhost:8080/"
        },
        "id": "qGr7f_9q9NWK",
        "outputId": "967027b8-68e9-49a7-a7d0-ae1d043644ff"
      },
      "execution_count": 3,
      "outputs": [
        {
          "output_type": "stream",
          "name": "stdout",
          "text": [
            "Squares: [1, 4, 9, 16, 25]\n",
            "Cubes: [1, 8, 27, 64, 125]\n"
          ]
        }
      ]
    },
    {
      "cell_type": "code",
      "source": [
        "#Q.5 How can we create a pool of worker processes in python using the multiprocessing module?\n",
        "\n",
        "import multiprocessing\n",
        "\n",
        "def compute_square(number):\n",
        "    \"\"\"Function to compute the square of a number.\"\"\"\n",
        "    return number ** 2\n",
        "\n",
        "def main():\n",
        "    numbers = [1, 2, 3, 4, 5]\n",
        "\n",
        "    # Create a pool of worker processes\n",
        "    with multiprocessing.Pool(processes=4) as pool:\n",
        "        # Distribute the task of computing squares across the pool\n",
        "        squares = pool.map(compute_square, numbers)\n",
        "\n",
        "    # Print the results\n",
        "    print(f\"Squares: {squares}\")\n",
        "\n",
        "if __name__ == \"__main__\":\n",
        "    main()\n"
      ],
      "metadata": {
        "colab": {
          "base_uri": "https://localhost:8080/"
        },
        "id": "lQeZXWc59j0u",
        "outputId": "fa2968e4-468e-41f0-ae29-beb0eb1fbbce"
      },
      "execution_count": 4,
      "outputs": [
        {
          "output_type": "stream",
          "name": "stdout",
          "text": [
            "Squares: [1, 4, 9, 16, 25]\n"
          ]
        }
      ]
    },
    {
      "cell_type": "code",
      "source": [
        "#Q.6 Write a python program to create 4 processes, each process should print a different number using the\n",
        "# multiprocessing module in python.\n",
        "\n",
        "import multiprocessing\n",
        "\n",
        "def print_number(number):\n",
        "    \"\"\"Function to print a number.\"\"\"\n",
        "    print(f\"Process printing number: {number}\")\n",
        "\n",
        "def main():\n",
        "    # List of numbers to be printed by different processes\n",
        "    numbers = [1, 2, 3, 4]\n",
        "\n",
        "    # Create a list to hold the process objects\n",
        "    processes = []\n",
        "\n",
        "    # Create and start a process for each number\n",
        "    for number in numbers:\n",
        "        process = multiprocessing.Process(target=print_number, args=(number,))\n",
        "        processes.append(process)\n",
        "        process.start()\n",
        "\n",
        "    # Wait for all processes to complete\n",
        "    for process in processes:\n",
        "        process.join()\n",
        "\n",
        "    print(\"All processes have finished execution\")\n",
        "\n",
        "if __name__ == \"__main__\":\n",
        "    main()\n"
      ],
      "metadata": {
        "colab": {
          "base_uri": "https://localhost:8080/"
        },
        "id": "nTW3g1ao9uoE",
        "outputId": "7aad68cd-fdc9-4718-e8d2-73bacac9fe5e"
      },
      "execution_count": 5,
      "outputs": [
        {
          "output_type": "stream",
          "name": "stdout",
          "text": [
            "Process printing number: 1\n",
            "Process printing number: 2\n",
            "Process printing number: 3Process printing number: 4\n",
            "\n",
            "All processes have finished execution\n"
          ]
        }
      ]
    }
  ]
}