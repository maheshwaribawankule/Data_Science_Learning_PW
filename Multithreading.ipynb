{
  "nbformat": 4,
  "nbformat_minor": 0,
  "metadata": {
    "colab": {
      "provenance": [],
      "authorship_tag": "ABX9TyP8qfNppl0ZZ5mZX2nQkXve",
      "include_colab_link": true
    },
    "kernelspec": {
      "name": "python3",
      "display_name": "Python 3"
    },
    "language_info": {
      "name": "python"
    }
  },
  "cells": [
    {
      "cell_type": "markdown",
      "metadata": {
        "id": "view-in-github",
        "colab_type": "text"
      },
      "source": [
        "<a href=\"https://colab.research.google.com/github/maheshwaribawankule/Data_Science_Learning_PW/blob/main/Multithreading.ipynb\" target=\"_parent\"><img src=\"https://colab.research.google.com/assets/colab-badge.svg\" alt=\"Open In Colab\"/></a>"
      ]
    },
    {
      "cell_type": "code",
      "execution_count": 1,
      "metadata": {
        "colab": {
          "base_uri": "https://localhost:8080/"
        },
        "id": "14Zqk0ji5PpS",
        "outputId": "10cb4faf-5a3c-4916-b840-019f8bcbcb08"
      },
      "outputs": [
        {
          "output_type": "stream",
          "name": "stdout",
          "text": [
            "Number: 1\n",
            "Letter: a\n",
            "Number: 2\n",
            "Letter: b\n",
            "Number: 3\n",
            "Letter: c\n",
            "Number: 4\n",
            "Number: 5\n",
            "Letter: d\n",
            "Letter: e\n",
            "Both threads have finished execution\n"
          ]
        }
      ],
      "source": [
        "#Q.1 What is multithreading in python? hy is it used? Name the module used to handle threads in python\n",
        "\n",
        "import threading\n",
        "import time\n",
        "\n",
        "def print_numbers():\n",
        "    for i in range(1, 6):\n",
        "        print(f\"Number: {i}\")\n",
        "        time.sleep(1)\n",
        "\n",
        "def print_letters():\n",
        "    for letter in 'abcde':\n",
        "        print(f\"Letter: {letter}\")\n",
        "        time.sleep(1.5)\n",
        "\n",
        "def main():\n",
        "    # Create threads\n",
        "    thread1 = threading.Thread(target=print_numbers)\n",
        "    thread2 = threading.Thread(target=print_letters)\n",
        "\n",
        "    # Start threads\n",
        "    thread1.start()\n",
        "    thread2.start()\n",
        "\n",
        "    # Wait for both threads to complete\n",
        "    thread1.join()\n",
        "    thread2.join()\n",
        "\n",
        "    print(\"Both threads have finished execution\")\n",
        "\n",
        "if __name__ == \"__main__\":\n",
        "    main()\n"
      ]
    },
    {
      "cell_type": "code",
      "source": [
        "#Q.2 Why threading module used? rite the use of the following functions\n",
        "# ( activeCount\n",
        "#  currentThread\n",
        "#  enumerate)\n",
        "\n",
        "#1.\n",
        "import threading\n",
        "import time\n",
        "\n",
        "def example_function():\n",
        "    time.sleep(2)\n",
        "\n",
        "# Creating multiple threads\n",
        "threads = []\n",
        "for i in range(5):\n",
        "    thread = threading.Thread(target=example_function)\n",
        "    threads.append(thread)\n",
        "    thread.start()\n",
        "\n",
        "print(f\"Active threads: {threading.activeCount()}\")\n",
        "\n",
        "\n",
        "#2.\n",
        "import threading\n",
        "\n",
        "def example_function():\n",
        "    current = threading.currentThread()\n",
        "    print(f\"Current thread: {current.name}\")\n",
        "\n",
        "# Creating and starting a thread\n",
        "thread = threading.Thread(target=example_function, name=\"ExampleThread\")\n",
        "thread.start()\n",
        "thread.join()\n",
        "\n",
        "#3.\n",
        "import threading\n",
        "import time\n",
        "\n",
        "def example_function():\n",
        "    time.sleep(2)\n",
        "\n",
        "# Creating multiple threads\n",
        "threads = []\n",
        "for i in range(3):\n",
        "    thread = threading.Thread(target=example_function, name=f\"Thread-{i}\")\n",
        "    threads.append(thread)\n",
        "    thread.start()\n",
        "\n",
        "# Enumerating all active threads\n",
        "active_threads = threading.enumerate()\n",
        "print(f\"Active threads: {[thread.name for thread in active_threads]}\")\n"
      ],
      "metadata": {
        "colab": {
          "base_uri": "https://localhost:8080/"
        },
        "id": "tKp7rbRo5ids",
        "outputId": "1a80c9eb-f8c4-4cf4-833f-40200bf4f103"
      },
      "execution_count": 2,
      "outputs": [
        {
          "output_type": "stream",
          "name": "stdout",
          "text": [
            "Active threads: 10\n",
            "Current thread: ExampleThread\n",
            "Active threads: ['MainThread', 'Thread-2 (_thread_main)', 'Thread-3', 'Thread-1', '_colab_inspector_thread', 'Thread-12 (example_function)', 'Thread-13 (example_function)', 'Thread-14 (example_function)', 'Thread-15 (example_function)', 'Thread-16 (example_function)', 'Thread-0', 'Thread-1', 'Thread-2']\n"
          ]
        },
        {
          "output_type": "stream",
          "name": "stderr",
          "text": [
            "<ipython-input-2-078e825317d0>:20: DeprecationWarning: activeCount() is deprecated, use active_count() instead\n",
            "  print(f\"Active threads: {threading.activeCount()}\")\n",
            "<ipython-input-2-078e825317d0>:27: DeprecationWarning: currentThread() is deprecated, use current_thread() instead\n",
            "  current = threading.currentThread()\n"
          ]
        }
      ]
    },
    {
      "cell_type": "code",
      "source": [
        "#Q.3 Explain the following functions\n",
        "# ( run\n",
        "#  start\n",
        "#  join\n",
        "# ' isAlive)\n",
        "#1.\n",
        "import threading\n",
        "\n",
        "class MyThread(threading.Thread):\n",
        "    def run(self):\n",
        "        print(f\"Thread {self.name} is running\")\n",
        "\n",
        "# Creating a thread instance\n",
        "thread = MyThread(name=\"ExampleThread\")\n",
        "thread.start()\n",
        "thread.join()\n",
        "\n",
        "#2.\n",
        "import threading\n",
        "\n",
        "def example_function():\n",
        "    print(\"Thread is running\")\n",
        "\n",
        "# Creating and starting a thread\n",
        "thread = threading.Thread(target=example_function)\n",
        "thread.start()\n",
        "thread.join()\n",
        "\n",
        "#3.\n",
        "import threading\n",
        "import time\n",
        "\n",
        "def example_function():\n",
        "    time.sleep(2)\n",
        "    print(\"Thread has finished execution\")\n",
        "\n",
        "# Creating and starting a thread\n",
        "thread = threading.Thread(target=example_function)\n",
        "thread.start()\n",
        "\n",
        "# Waiting for the thread to complete\n",
        "thread.join()\n",
        "print(\"Main thread continues\")\n",
        "\n",
        "#4.import threading\n",
        "import time\n",
        "\n",
        "def example_function():\n",
        "    time.sleep(2)\n",
        "    print(\"Thread has finished execution\")\n",
        "\n",
        "# Creating and starting a thread\n",
        "thread = threading.Thread(target=example_function)\n",
        "thread.start()\n",
        "\n",
        "# Checking if the thread is alive\n",
        "while thread.is_alive():\n",
        "    print(\"Thread is still running...\")\n",
        "    time.sleep(1)\n",
        "\n",
        "print(\"Thread has finished execution\")\n"
      ],
      "metadata": {
        "colab": {
          "base_uri": "https://localhost:8080/"
        },
        "id": "qbe8Ukqw6Rpu",
        "outputId": "0e06109a-3130-4a3a-f038-fcb69aa906cc"
      },
      "execution_count": 3,
      "outputs": [
        {
          "output_type": "stream",
          "name": "stdout",
          "text": [
            "Thread ExampleThread is running\n",
            "Thread is running\n",
            "Thread has finished execution\n",
            "Main thread continues\n",
            "Thread is still running...\n",
            "Thread is still running...\n",
            "Thread has finished execution\n",
            "Thread has finished execution\n"
          ]
        }
      ]
    },
    {
      "cell_type": "code",
      "source": [
        "#Q.4 rite a python program to create two threads. Thread one must print the list of squares and thread\n",
        "# two must print the list of cubes\n",
        "\n",
        "import threading\n",
        "\n",
        "def print_squares(numbers):\n",
        "    squares = [x**2 for x in numbers]\n",
        "    print(f\"Squares: {squares}\")\n",
        "\n",
        "def print_cubes(numbers):\n",
        "    cubes = [x**3 for x in numbers]\n",
        "    print(f\"Cubes: {cubes}\")\n",
        "\n",
        "def main():\n",
        "    numbers = [1, 2, 3, 4, 5]\n",
        "\n",
        "    # Creating threads\n",
        "    thread1 = threading.Thread(target=print_squares, args=(numbers,))\n",
        "    thread2 = threading.Thread(target=print_cubes, args=(numbers,))\n",
        "\n",
        "    # Starting threads\n",
        "    thread1.start()\n",
        "    thread2.start()\n",
        "\n",
        "    # Waiting for both threads to complete\n",
        "    thread1.join()\n",
        "    thread2.join()\n",
        "\n",
        "    print(\"Both threads have finished execution\")\n",
        "\n",
        "if __name__ == \"__main__\":\n",
        "    main()\n"
      ],
      "metadata": {
        "colab": {
          "base_uri": "https://localhost:8080/"
        },
        "id": "GJ08qlHB65RH",
        "outputId": "0d41d79b-021e-4499-ac53-a82802a9935a"
      },
      "execution_count": 4,
      "outputs": [
        {
          "output_type": "stream",
          "name": "stdout",
          "text": [
            "Squares: [1, 4, 9, 16, 25]\n",
            "Cubes: [1, 8, 27, 64, 125]\n",
            "Both threads have finished execution\n"
          ]
        }
      ]
    },
    {
      "cell_type": "code",
      "source": [
        "# #Q.5 State advantages and disadvantages of multithreading\n",
        "\n",
        "# ### Advantages of Multithreading\n",
        "\n",
        "# 1. **Improved Performance**:\n",
        "#    - **Concurrency**: Multithreading allows for concurrent execution of tasks, which can lead to better utilization of CPU resources and faster completion of tasks.\n",
        "#    - **Responsiveness**: Applications can remain responsive to user inputs while performing background tasks, improving the user experience.\n",
        "\n",
        "# 2. **Efficient Resource Utilization**:\n",
        "#    - **Resource Sharing**: Threads within the same process share the same memory space, which allows for efficient communication and resource sharing among threads.\n",
        "\n",
        "# 3. **Simplified Program Structure**:\n",
        "#    - **Modularity**: Breaking down a program into multiple threads can simplify the design and make it easier to manage complex operations, especially when tasks can be performed concurrently.\n",
        "\n",
        "# 4. **Better Scalability**:\n",
        "#    - **Parallel Execution**: Multithreading can be used to parallelize tasks and make better use of multi-core processors, potentially increasing the throughput of applications.\n",
        "\n",
        "# 5. **Enhanced Responsiveness**:\n",
        "#    - **Background Tasks**: Multithreading allows long-running operations (e.g., file I/O, network communication) to be performed in the background, keeping the main thread responsive.\n",
        "\n",
        "# ### Disadvantages of Multithreading\n",
        "\n",
        "# 1. **Complexity**:\n",
        "#    - **Concurrency Issues**: Multithreading introduces complexities such as race conditions, deadlocks, and synchronization issues that can make the code harder to develop, test, and maintain.\n",
        "#    - **Debugging**: Debugging multithreaded applications can be challenging due to the non-deterministic nature of thread execution and potential timing issues.\n",
        "\n",
        "# 2. **Overhead**:\n",
        "#    - **Context Switching**: Switching between threads incurs overhead, which can reduce performance if threads are frequently switched.\n",
        "#    - **Resource Consumption**: Threads consume system resources (e.g., memory, CPU time), and creating too many threads can lead to increased resource consumption and potential performance degradation.\n",
        "\n",
        "# 3. **Thread Management**:\n",
        "#    - **Synchronization**: Managing thread synchronization and communication can be complex and error-prone, requiring careful design to avoid issues like deadlocks and data corruption.\n",
        "#    - **Priority Inversion**: Threads with different priorities might interfere with each other, leading to scenarios where lower-priority threads block higher-priority ones.\n",
        "\n",
        "# 4. **Global Interpreter Lock (GIL) in Python**:\n",
        "#    - **Python's GIL**: In CPython, the Global Interpreter Lock (GIL) can prevent multiple native threads from executing Python bytecodes simultaneously. This can limit the effectiveness of multithreading in CPU-bound operations. However, I/O-bound operations can still benefit from multithreading.\n",
        "\n",
        "# 5. **Non-Deterministic Behavior**:\n",
        "#    - **Timing Issues**: The execution order of threads is non-deterministic, which can lead to unpredictable behavior and make it difficult to reproduce and diagnose issues.\n",
        "\n",
        "# ### Summary\n",
        "\n",
        "# - **Advantages**:\n",
        "#   - Improved performance and responsiveness\n",
        "#   - Efficient resource utilization\n",
        "#   - Simplified program structure for concurrent tasks\n",
        "#   - Better scalability on multi-core processors\n",
        "\n",
        "# - **Disadvantages**:\n",
        "#   - Increased complexity and difficulty in debugging\n",
        "#   - Overhead from context switching and resource consumption\n",
        "#   - Complexity in thread management and synchronization\n",
        "#   - Python's GIL can limit multithreading effectiveness for CPU-bound tasks\n",
        "#   - Non-deterministic execution leading to unpredictable behavior\n",
        "\n",
        "# By weighing these advantages and disadvantages, developers can make informed decisions about when and how to use multithreading in their applications to balance performance improvements with complexity management."
      ],
      "metadata": {
        "id": "tL2efUcE7eW3"
      },
      "execution_count": null,
      "outputs": []
    },
    {
      "cell_type": "code",
      "source": [
        "#Q.6 Explain deadlocks and race conditions.\n",
        "import threading\n",
        "\n",
        "# Create two locks\n",
        "lock1 = threading.Lock()\n",
        "lock2 = threading.Lock()\n",
        "\n",
        "def thread1_task():\n",
        "    with lock1:\n",
        "        print(\"Thread 1 acquired lock1\")\n",
        "        # Simulate some work\n",
        "        time.sleep(1)\n",
        "        print(\"Thread 1 waiting for lock2\")\n",
        "        with lock2:\n",
        "            print(\"Thread 1 acquired lock2\")\n",
        "\n",
        "def thread2_task():\n",
        "    with lock2:\n",
        "        print(\"Thread 2 acquired lock2\")\n",
        "        # Simulate some work\n",
        "        time.sleep(1)\n",
        "        print(\"Thread 2 waiting for lock1\")\n",
        "        with lock1:\n",
        "            print(\"Thread 2 acquired lock1\")\n",
        "\n",
        "# Start threads\n",
        "thread1 = threading.Thread(target=thread1_task)\n",
        "thread2 = threading.Thread(target=thread2_task)\n",
        "\n",
        "thread1.start()\n",
        "thread2.start()\n",
        "\n",
        "thread1.join()\n",
        "thread2.join()\n"
      ],
      "metadata": {
        "colab": {
          "base_uri": "https://localhost:8080/"
        },
        "id": "lCYWUqa67vx1",
        "outputId": "a55367a2-c39d-43de-d55f-809485914612"
      },
      "execution_count": null,
      "outputs": [
        {
          "output_type": "stream",
          "name": "stdout",
          "text": [
            "Thread 1 acquired lock1\n",
            "Thread 2 acquired lock2\n",
            "Thread 1 waiting for lock2\n",
            "Thread 2 waiting for lock1\n"
          ]
        }
      ]
    }
  ]
}