{
  "nbformat": 4,
  "nbformat_minor": 0,
  "metadata": {
    "colab": {
      "provenance": [],
      "authorship_tag": "ABX9TyP0jlcgRya/KhSyCYUxcDL3",
      "include_colab_link": true
    },
    "kernelspec": {
      "name": "python3",
      "display_name": "Python 3"
    },
    "language_info": {
      "name": "python"
    }
  },
  "cells": [
    {
      "cell_type": "markdown",
      "metadata": {
        "id": "view-in-github",
        "colab_type": "text"
      },
      "source": [
        "<a href=\"https://colab.research.google.com/github/maheshwaribawankule/Data_Science_Learning_PW/blob/main/Oops_assignment_2.ipynb\" target=\"_parent\"><img src=\"https://colab.research.google.com/assets/colab-badge.svg\" alt=\"Open In Colab\"/></a>"
      ]
    },
    {
      "cell_type": "code",
      "execution_count": 1,
      "metadata": {
        "colab": {
          "base_uri": "https://localhost:8080/"
        },
        "id": "f52uRjzm7XPF",
        "outputId": "5aa8cd7e-fa66-4b8d-fc36-3177aca1f54f"
      },
      "outputs": [
        {
          "output_type": "stream",
          "name": "stdout",
          "text": [
            "Vehicle Name: Car\n",
            "Max Speed: 200 km/h\n",
            "Average: 15 km/l\n"
          ]
        }
      ],
      "source": [
        "#Q.1 Create a vehicle class with an init method having instance variables as name_of_vehicle, max_speed\n",
        "#and average_of_vehicle.\n",
        "\n",
        "class Vehicle:\n",
        "    def __init__(self, name_of_vehicle, max_speed, average_of_vehicle):\n",
        "        self.name_of_vehicle = name_of_vehicle\n",
        "        self.max_speed = max_speed\n",
        "        self.average_of_vehicle = average_of_vehicle\n",
        "\n",
        "\n",
        "my_vehicle = Vehicle(\"Car\", 200, 15)\n",
        "print(f\"Vehicle Name: {my_vehicle.name_of_vehicle}\")\n",
        "print(f\"Max Speed: {my_vehicle.max_speed} km/h\")\n",
        "print(f\"Average: {my_vehicle.average_of_vehicle} km/l\")\n"
      ]
    },
    {
      "cell_type": "code",
      "source": [
        "#Q.2 Create a child class car from the vehicle class created in Que 1, which will inherit the vehicle class.\n",
        "# Create a method named seating_capacity which takes capacity as an argument and returns the name of\n",
        "# the vehicle and its seating capacity.\n",
        "\n",
        "class Vehicle:\n",
        "    def __init__(self, name_of_vehicle, max_speed, average_of_vehicle):\n",
        "        self.name_of_vehicle = name_of_vehicle\n",
        "        self.max_speed = max_speed\n",
        "        self.average_of_vehicle = average_of_vehicle\n",
        "\n",
        "class Car(Vehicle):\n",
        "    def seating_capacity(self, capacity):\n",
        "        return f\"{self.name_of_vehicle} has a seating capacity of {capacity} people.\"\n",
        "\n",
        "# Example usage:\n",
        "my_car = Car(\"Audii\", 180, 12)\n",
        "print(f\"Vehicle Name: {my_car.name_of_vehicle}\")\n",
        "print(f\"Max Speed: {my_car.max_speed} km/h\")\n",
        "print(f\"Average: {my_car.average_of_vehicle} km/l\")\n",
        "print(my_car.seating_capacity(5))\n"
      ],
      "metadata": {
        "colab": {
          "base_uri": "https://localhost:8080/"
        },
        "id": "LGe-Mjea7y4p",
        "outputId": "d18106ef-ce13-41b7-bb71-2d04d3a019a1"
      },
      "execution_count": 3,
      "outputs": [
        {
          "output_type": "stream",
          "name": "stdout",
          "text": [
            "Vehicle Name: Audii\n",
            "Max Speed: 180 km/h\n",
            "Average: 12 km/l\n",
            "Audii has a seating capacity of 5 people.\n"
          ]
        }
      ]
    },
    {
      "cell_type": "code",
      "source": [
        "# #Q.3 What is multiple inheritance? Write a python code to demonstrate multiple inheritance.\n",
        "\n",
        "# Multiple inheritance is a feature in object-oriented programming where a\n",
        "# class can inherit attributes and methods from more than one parent class.\n",
        "# This allows the child class to combine the functionalities of multiple parent classes.\n",
        "\n",
        "class Engine:\n",
        "    def __init__(self, engine_type):\n",
        "        self.engine_type = engine_type\n",
        "\n",
        "    def start_engine(self):\n",
        "        return f\"The {self.engine_type} engine is starting.\"\n",
        "\n",
        "class Wheels:\n",
        "    def __init__(self, number_of_wheels):\n",
        "        self.number_of_wheels = number_of_wheels\n",
        "\n",
        "    def describe_wheels(self):\n",
        "        return f\"This vehicle has {self.number_of_wheels} wheels.\"\n",
        "\n",
        "class Car(Engine, Wheels):\n",
        "    def __init__(self, name_of_vehicle, max_speed, average_of_vehicle, engine_type, number_of_wheels):\n",
        "        Engine.__init__(self, engine_type)\n",
        "        Wheels.__init__(self, number_of_wheels)\n",
        "        self.name_of_vehicle = name_of_vehicle\n",
        "        self.max_speed = max_speed\n",
        "        self.average_of_vehicle = average_of_vehicle\n",
        "\n",
        "    def car_details(self):\n",
        "        return (f\"Vehicle Name: {self.name_of_vehicle}\\n\"\n",
        "                f\"Max Speed: {self.max_speed} km/h\\n\"\n",
        "                f\"Average: {self.average_of_vehicle} km/l\\n\"\n",
        "                f\"Engine Type: {self.engine_type}\\n\"\n",
        "                f\"Number of Wheels: {self.number_of_wheels}\")\n",
        "\n",
        "# Example usage:\n",
        "my_car = Car(\"Audii\", 180, 12, \"V6\", 4)\n",
        "print(my_car.start_engine())\n",
        "print(my_car.describe_wheels())\n",
        "print(my_car.car_details())\n"
      ],
      "metadata": {
        "colab": {
          "base_uri": "https://localhost:8080/"
        },
        "id": "reyYXdKP8a-0",
        "outputId": "39af1534-8a43-42ab-96bd-5599bb945b8e"
      },
      "execution_count": 4,
      "outputs": [
        {
          "output_type": "stream",
          "name": "stdout",
          "text": [
            "The V6 engine is starting.\n",
            "This vehicle has 4 wheels.\n",
            "Vehicle Name: Audii\n",
            "Max Speed: 180 km/h\n",
            "Average: 12 km/l\n",
            "Engine Type: V6\n",
            "Number of Wheels: 4\n"
          ]
        }
      ]
    },
    {
      "cell_type": "code",
      "source": [
        "#Q.4What are getter and setter in python? Create a class and create a getter and a setter method in this\n",
        "# class.\n",
        "\n",
        "# In Python, getter and setter methods are used to access and modify the private attributes of a class. These methods provide a way to encapsulate the data and ensure that it is accessed and modified in a controlled manner.\n",
        "\n",
        "class Person:\n",
        "    def __init__(self, name, age):\n",
        "        self._name = name\n",
        "        self._age = age\n",
        "\n",
        "    # Getter method for name\n",
        "    def get_name(self):\n",
        "        return self._name\n",
        "\n",
        "    # Setter method for name\n",
        "    def set_name(self, name):\n",
        "        self._name = name\n",
        "\n",
        "    # Getter method for age\n",
        "    def get_age(self):\n",
        "        return self._age\n",
        "\n",
        "    # Setter method for age\n",
        "    def set_age(self, age):\n",
        "        if age > 0:\n",
        "            self._age = age\n",
        "        else:\n",
        "            print(\"Age must be positive.\")\n",
        "\n",
        "\n",
        "person = Person(\"Alice\", 30)\n",
        "\n",
        "# Using getter methods\n",
        "print(\"Name:\", person.get_name())\n",
        "print(\"Age:\", person.get_age())\n",
        "\n",
        "# Using setter methods\n",
        "person.set_name(\"Bob\")\n",
        "person.set_age(35)\n",
        "\n",
        "print(\"Updated Name:\", person.get_name())\n",
        "print(\"Updated Age:\", person.get_age())\n",
        "\n",
        "# Attempt to set an invalid age\n",
        "person.set_age(-5)  # This will print an error message\n",
        "\n"
      ],
      "metadata": {
        "colab": {
          "base_uri": "https://localhost:8080/"
        },
        "id": "6Z2murJT9KBa",
        "outputId": "bc3725cf-57c3-4643-bf72-a4dd559a41b0"
      },
      "execution_count": 5,
      "outputs": [
        {
          "output_type": "stream",
          "name": "stdout",
          "text": [
            "Name: Alice\n",
            "Age: 30\n",
            "Updated Name: Bob\n",
            "Updated Age: 35\n",
            "Age must be positive.\n"
          ]
        }
      ]
    },
    {
      "cell_type": "code",
      "source": [
        "# #Q.5What is method overriding in python? Write a python code to demonstrate method overriding.\n",
        "\n",
        "\n",
        "# Method overriding in Python occurs when a subclass provides a specific implementation of a method that is already defined in its superclass. This allows the subclass to customize or completely replace the behavior of that method.\n",
        "class Animal:\n",
        "    def speak(self):\n",
        "        return \"The animal makes a sound.\"\n",
        "\n",
        "class Dog(Animal):\n",
        "    def speak(self):\n",
        "        return \"The dog barks.\"\n",
        "\n",
        "class Cat(Animal):\n",
        "    def speak(self):\n",
        "        return \"The cat meows.\"\n",
        "\n",
        "generic_animal = Animal()\n",
        "dog = Dog()\n",
        "cat = Cat()\n",
        "\n",
        "print(generic_animal.speak())\n",
        "print(dog.speak())\n",
        "print(cat.speak())\n",
        "\n"
      ],
      "metadata": {
        "colab": {
          "base_uri": "https://localhost:8080/"
        },
        "id": "I98flpmQ9xG0",
        "outputId": "9642a2e5-e5ce-48bd-cf79-4f0fc37a2df4"
      },
      "execution_count": 6,
      "outputs": [
        {
          "output_type": "stream",
          "name": "stdout",
          "text": [
            "The animal makes a sound.\n",
            "The dog barks.\n",
            "The cat meows.\n"
          ]
        }
      ]
    }
  ]
}