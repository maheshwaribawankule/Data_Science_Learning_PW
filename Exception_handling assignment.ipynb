{
  "nbformat": 4,
  "nbformat_minor": 0,
  "metadata": {
    "colab": {
      "provenance": [],
      "authorship_tag": "ABX9TyPrzMC0EJmm6MlqLfjvD4av",
      "include_colab_link": true
    },
    "kernelspec": {
      "name": "python3",
      "display_name": "Python 3"
    },
    "language_info": {
      "name": "python"
    }
  },
  "cells": [
    {
      "cell_type": "markdown",
      "metadata": {
        "id": "view-in-github",
        "colab_type": "text"
      },
      "source": [
        "<a href=\"https://colab.research.google.com/github/maheshwaribawankule/Data_Science_Learning_PW/blob/main/Exception_handling%20assignment.ipynb\" target=\"_parent\"><img src=\"https://colab.research.google.com/assets/colab-badge.svg\" alt=\"Open In Colab\"/></a>"
      ]
    },
    {
      "cell_type": "code",
      "execution_count": 2,
      "metadata": {
        "colab": {
          "base_uri": "https://localhost:8080/"
        },
        "id": "BaGqSOenMbts",
        "outputId": "0558d569-ae58-4c92-df16-c87fa0b095b7"
      },
      "outputs": [
        {
          "output_type": "stream",
          "name": "stdout",
          "text": [
            "Caught an exception: division by zero\n",
            "This will cause a syntax error\n"
          ]
        }
      ],
      "source": [
        "#Q.1What is an Exception in python? Write the difference between Exceptions and syntax errors\n",
        "\n",
        "# An Exception in Python is an event that disrupts the normal flow of a program's instructions. When a Python script encounters a situation it cannot cope with, it raises an exception. An exception is a Python object that represents an error. When a Python script raises an exception, it must either handle the exception immediately or terminate and report the error.\n",
        "\n",
        "#example of exception\n",
        "try:\n",
        "    result = 10 / 0\n",
        "except ZeroDivisionError as e:\n",
        "    print(f\"Caught an exception: {e}\")\n",
        "\n",
        "#example of syntax error\n",
        "if True:\n",
        "    print(\"This will cause a syntax error\")\n"
      ]
    },
    {
      "cell_type": "code",
      "source": [
        "#Q.2What happens when an exception is not handled? Explain with an example?\n",
        "def divide_numbers(a, b):\n",
        "    try:\n",
        "        result = a / b\n",
        "    except ZeroDivisionError as e:\n",
        "        print(f\"Error: {e}\")\n",
        "        return None\n",
        "    return result\n",
        "\n",
        "print(divide_numbers(10, 0))\n",
        "\n"
      ],
      "metadata": {
        "colab": {
          "base_uri": "https://localhost:8080/"
        },
        "id": "wjneXlchP3ij",
        "outputId": "d037baf5-29d6-45db-ff49-75ed3a4dd7f6"
      },
      "execution_count": 3,
      "outputs": [
        {
          "output_type": "stream",
          "name": "stdout",
          "text": [
            "Error: division by zero\n",
            "None\n"
          ]
        }
      ]
    },
    {
      "cell_type": "code",
      "source": [
        "#Q.3 Which python statements are used to catch and handle exception? Explain with an example\n",
        "\n",
        "def divide_numbers(a, b):\n",
        "    try:\n",
        "        result = a / b\n",
        "    except ZeroDivisionError as e:\n",
        "        print(f\"Error: {e}\")\n",
        "        return None\n",
        "    except TypeError as e:\n",
        "        print(f\"Error: {e}\")\n",
        "        return None\n",
        "    else:\n",
        "        print(\"Division successful!\")\n",
        "        return result\n",
        "    finally:\n",
        "        print(\"Execution of the try-except block is complete.\")\n",
        "\n",
        "print(divide_numbers(10, 2))  # This will work\n",
        "print(divide_numbers(10, 0))  # This will raise a ZeroDivisionError\n",
        "print(divide_numbers(10, 'a'))  # This will raise a TypeError\n"
      ],
      "metadata": {
        "colab": {
          "base_uri": "https://localhost:8080/"
        },
        "id": "AEnvvikyRIgs",
        "outputId": "7009f39f-7f4b-43bd-a222-0c9d72c5ff23"
      },
      "execution_count": 4,
      "outputs": [
        {
          "output_type": "stream",
          "name": "stdout",
          "text": [
            "Division successful!\n",
            "Execution of the try-except block is complete.\n",
            "5.0\n",
            "Error: division by zero\n",
            "Execution of the try-except block is complete.\n",
            "None\n",
            "Error: unsupported operand type(s) for /: 'int' and 'str'\n",
            "Execution of the try-except block is complete.\n",
            "None\n"
          ]
        }
      ]
    },
    {
      "cell_type": "code",
      "source": [
        "#Q.4 Explain with an example\n",
        "#1. try and else\n",
        "\n",
        "def divide_numbers(a, b):\n",
        "    try:\n",
        "        result = a / b\n",
        "    except ZeroDivisionError as e:\n",
        "        print(f\"Error: {e}\")\n",
        "        return None\n",
        "    else:\n",
        "        print(\"Division successful!\")\n",
        "        return result\n",
        "\n",
        "# Case where division is successful\n",
        "print(divide_numbers(10, 2))  # This will work\n",
        "\n",
        "# Case where division by zero is attempted\n",
        "print(divide_numbers(10, 0))  # This will raise a ZeroDivisionError\n",
        "\n",
        "#2. finally\n",
        "def read_file(file_path):\n",
        "    try:\n",
        "        file = open(file_path, 'r')\n",
        "        content = file.read()\n",
        "        print(content)\n",
        "    except FileNotFoundError as e:\n",
        "        print(f\"Error: {e}\")\n",
        "    finally:\n",
        "        print(\"Executing finally block.\")\n",
        "        try:\n",
        "            file.close()\n",
        "            print(\"File closed.\")\n",
        "        except NameError:\n",
        "            print(\"File was never opened, no need to close.\")\n",
        "\n",
        "# Case 1: File exists\n",
        "print(\"Case 1: File exists\")\n",
        "read_file('existing_file.txt')\n",
        "\n",
        "# Case 2: File does not exist\n",
        "print(\"\\nCase 2: File does not exist\")\n",
        "read_file('non_existing_file.txt')\n",
        "\n",
        "#Q.3Raise\n",
        "def factorial(n):\n",
        "    if n < 0:\n",
        "        raise ValueError(\"Factorial is not defined for negative numbers.\")\n",
        "    result = 1\n",
        "    for i in range(1, n + 1):\n",
        "        result *= i\n",
        "    return result\n",
        "\n",
        "# Testing the factorial function\n",
        "try:\n",
        "    print(factorial(5))    # Valid case\n",
        "    print(factorial(-1))   # This will raise a ValueError\n",
        "    print(factorial(0))    # Valid case\n",
        "except ValueError as e:\n",
        "    print(f\"Error occurred: {e}\")\n"
      ],
      "metadata": {
        "colab": {
          "base_uri": "https://localhost:8080/"
        },
        "id": "SJZ7WdkYR2wz",
        "outputId": "5c9a6d27-2bc1-4f20-d4ed-56eb8ab45c92"
      },
      "execution_count": 5,
      "outputs": [
        {
          "output_type": "stream",
          "name": "stdout",
          "text": [
            "Division successful!\n",
            "5.0\n",
            "Error: division by zero\n",
            "None\n",
            "Case 1: File exists\n",
            "Error: [Errno 2] No such file or directory: 'existing_file.txt'\n",
            "Executing finally block.\n",
            "File was never opened, no need to close.\n",
            "\n",
            "Case 2: File does not exist\n",
            "Error: [Errno 2] No such file or directory: 'non_existing_file.txt'\n",
            "Executing finally block.\n",
            "File was never opened, no need to close.\n",
            "120\n",
            "Error occurred: Factorial is not defined for negative numbers.\n"
          ]
        }
      ]
    },
    {
      "cell_type": "code",
      "source": [
        "#Q.5What are Custom Exceptions in python? Why do we need Custom Exceptions? Explain with an example\n",
        "\n",
        "class InvalidAgeError(Exception):\n",
        "    def __init__(self, message=\"Invalid age provided. Age must be between 0 and 150.\"):\n",
        "        self.message = message\n",
        "        super().__init__(self.message)\n",
        "\n",
        "def register_user(name, age):\n",
        "    if age < 0 or age > 150:\n",
        "        raise InvalidAgeError()\n",
        "    # Further processing logic if age is valid\n",
        "    print(f\"User '{name}' registered successfully with age {age}.\")\n",
        "\n",
        "# Example usage:\n",
        "try:\n",
        "    register_user(\"Alice\", 25)   # Valid age\n",
        "    register_user(\"Bob\", -5)     # This will raise InvalidAgeError\n",
        "    register_user(\"Charlie\", 160) # This will raise InvalidAgeError\n",
        "except InvalidAgeError as e:\n",
        "    print(f\"Error: {e}\")\n"
      ],
      "metadata": {
        "colab": {
          "base_uri": "https://localhost:8080/"
        },
        "id": "8CbbjOk8US7Z",
        "outputId": "30a2d431-9a22-4082-ce67-5b23d68c235f"
      },
      "execution_count": 6,
      "outputs": [
        {
          "output_type": "stream",
          "name": "stdout",
          "text": [
            "User 'Alice' registered successfully with age 25.\n",
            "Error: Invalid age provided. Age must be between 0 and 150.\n"
          ]
        }
      ]
    },
    {
      "cell_type": "code",
      "source": [
        "# Q.6Create a custom exception class? Use this class to handle exception?\n",
        "\n",
        "class CustomError(Exception):\n",
        "    def __init__(self, message=\"This is a custom error.\"):\n",
        "        self.message = message\n",
        "        super().__init__(self.message)\n",
        "\n",
        "# Example usage:\n",
        "def example_function(value):\n",
        "    if not isinstance(value, int):\n",
        "        raise CustomError(\"Input value must be an integer.\")\n",
        "\n",
        "# Handling the custom exception:\n",
        "try:\n",
        "    example_function(\"test\")\n",
        "except CustomError as e:\n",
        "    print(f\"Custom error occurred: {e}\")\n"
      ],
      "metadata": {
        "colab": {
          "base_uri": "https://localhost:8080/"
        },
        "id": "J0aPxtnrU6FV",
        "outputId": "88a2a1b1-41fa-4da2-c06e-20204e724dc2"
      },
      "execution_count": 7,
      "outputs": [
        {
          "output_type": "stream",
          "name": "stdout",
          "text": [
            "Custom error occurred: Input value must be an integer.\n"
          ]
        }
      ]
    }
  ]
}