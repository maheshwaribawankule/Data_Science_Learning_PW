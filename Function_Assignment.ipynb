{
  "nbformat": 4,
  "nbformat_minor": 0,
  "metadata": {
    "colab": {
      "provenance": []
    },
    "kernelspec": {
      "name": "python3",
      "display_name": "Python 3"
    },
    "language_info": {
      "name": "python"
    }
  },
  "cells": [
    {
      "cell_type": "code",
      "execution_count": null,
      "metadata": {
        "colab": {
          "base_uri": "https://localhost:8080/"
        },
        "id": "PqWzkNIr1gSu",
        "outputId": "44161359-17ea-4585-c6ca-aedf613e6786"
      },
      "outputs": [
        {
          "output_type": "stream",
          "name": "stdout",
          "text": [
            "[1, 3, 5, 7, 9, 11, 13, 15, 17, 19, 21, 23, 25]\n"
          ]
        }
      ],
      "source": [
        "#Q1. Which keyword is used to create a function? Create a function to return a list of odd numbers in the range of 1 to 25.\n",
        "\n",
        "def get_odd_numbers():\n",
        "    # Initialize an empty list to store odd numbers\n",
        "    odd_numbers = []\n",
        "\n",
        "    # Loop through the range from 1 to 25\n",
        "    for num in range(1, 26):\n",
        "        if num % 2 == 1:\n",
        "            # If the number is odd, add it to the list\n",
        "            odd_numbers.append(num)\n",
        "\n",
        "    return odd_numbers\n",
        "\n",
        "# Example usage\n",
        "result = get_odd_numbers()\n",
        "print(result)\n"
      ]
    },
    {
      "cell_type": "code",
      "source": [
        "#Q2. Why *args and **kwargs is used in some functions? Create a function each for *args and **kwargs to\n",
        "#demonstrate their use.\n",
        "\n",
        "def print_kwargs(**kwargs):\n",
        "    for key, value in kwargs.items():\n",
        "        print(f\"{key}: {value}\")\n",
        "\n",
        "# Usage\n",
        "print_kwargs(first='Hello', second='World', count=42)\n"
      ],
      "metadata": {
        "colab": {
          "base_uri": "https://localhost:8080/"
        },
        "id": "R3wIZ8iX2J5f",
        "outputId": "638abc33-7453-41c4-ee5d-e86f9dfa5664"
      },
      "execution_count": null,
      "outputs": [
        {
          "output_type": "stream",
          "name": "stdout",
          "text": [
            "first: Hello\n",
            "second: World\n",
            "count: 42\n"
          ]
        }
      ]
    },
    {
      "cell_type": "code",
      "source": [
        "#Q3. What is an iterator in python? Name the method used to initialise the iterator object and the method\n",
        "#used for iteration. Use these methods to print the first five elements of the given list [2, 4, 6, 8, 10, 12, 14, 16,18, 20].\n",
        "\n",
        "# Create an iterator for the list\n",
        "my_list = [2, 4, 6, 8, 10, 12, 14, 16, 18, 20]\n",
        "my_iterator = iter(my_list)\n",
        "\n",
        "# Print the first five elements\n",
        "for _ in range(5):\n",
        "    print(next(my_iterator))\n"
      ],
      "metadata": {
        "colab": {
          "base_uri": "https://localhost:8080/"
        },
        "id": "IE9wEC5U2qE4",
        "outputId": "1d94150e-9ae8-47c4-f09f-e0075b404a85"
      },
      "execution_count": null,
      "outputs": [
        {
          "output_type": "stream",
          "name": "stdout",
          "text": [
            "2\n",
            "4\n",
            "6\n",
            "8\n",
            "10\n"
          ]
        }
      ]
    },
    {
      "cell_type": "code",
      "source": [
        "#Q4. What is a generator function in python? Why yield keyword is used? Give an example of a generator function.\n",
        "\n",
        "def fibonacci_generator(n):\n",
        "    a, b = 0, 1\n",
        "    count = 0\n",
        "    while count < n:\n",
        "        yield a\n",
        "        a, b = b, a + b\n",
        "        count += 1\n",
        "\n",
        "# Usage\n",
        "n = 10\n",
        "fibonacci_gen = fibonacci_generator(n)\n",
        "for fib_num in fibonacci_gen:\n",
        "    print(fib_num)\n"
      ],
      "metadata": {
        "colab": {
          "base_uri": "https://localhost:8080/"
        },
        "id": "l7cz2NUL3BOg",
        "outputId": "b960310a-97c8-4e73-ad6b-2f70c64795d8"
      },
      "execution_count": null,
      "outputs": [
        {
          "output_type": "stream",
          "name": "stdout",
          "text": [
            "0\n",
            "1\n",
            "1\n",
            "2\n",
            "3\n",
            "5\n",
            "8\n",
            "13\n",
            "21\n",
            "34\n"
          ]
        }
      ]
    },
    {
      "cell_type": "code",
      "source": [
        "#Q5. Create a generator function for prime numbers less than 1000. Use the next() method to print the\n",
        "#first 20 prime numbers.\n",
        "\n",
        "def prime_generator(limit=1000):\n",
        "    sieve = [True] * limit\n",
        "    sieve[0] = sieve[1] = False  # 0 and 1 are not primes\n",
        "\n",
        "    for start in range(2, limit):\n",
        "        if sieve[start]:\n",
        "            yield start\n",
        "            for multiple in range(start * start, limit, start):\n",
        "                sieve[multiple] = False\n",
        "\n",
        "# Create the generator\n",
        "primes = prime_generator()\n",
        "\n",
        "# Print the first 20 prime numbers\n",
        "for _ in range(20):\n",
        "    print(next(primes))\n",
        "\n"
      ],
      "metadata": {
        "colab": {
          "base_uri": "https://localhost:8080/"
        },
        "id": "f47xmlRY3jvP",
        "outputId": "84cb3c69-19d8-42c6-e3ea-541829452b19"
      },
      "execution_count": null,
      "outputs": [
        {
          "output_type": "stream",
          "name": "stdout",
          "text": [
            "2\n",
            "3\n",
            "5\n",
            "7\n",
            "11\n",
            "13\n",
            "17\n",
            "19\n",
            "23\n",
            "29\n",
            "31\n",
            "37\n",
            "41\n",
            "43\n",
            "47\n",
            "53\n",
            "59\n",
            "61\n",
            "67\n",
            "71\n"
          ]
        }
      ]
    }
  ]
}