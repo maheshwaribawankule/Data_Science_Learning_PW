{
  "nbformat": 4,
  "nbformat_minor": 0,
  "metadata": {
    "colab": {
      "provenance": []
    },
    "kernelspec": {
      "name": "python3",
      "display_name": "Python 3"
    },
    "language_info": {
      "name": "python"
    }
  },
  "cells": [
    {
      "cell_type": "code",
      "source": [
        "# #Q1. Explain Class and Object with respect to Object-Oriented Programming. Give a suitable example.\n",
        "# In Object-Oriented Programming (OOP), classes and objects are fundamental concepts. Here's a detailed explanation of each, along with an example to illustrate their use.\n",
        "\n",
        "# Class\n",
        "# A class is a blueprint for creating objects. It defines a set of attributes (data) and methods (functions) that the objects created from the class will have. A class encapsulates data for the object and methods to manipulate that data.\n",
        "\n",
        "# Object\n",
        "# An object is an instance of a class. When a class is defined, no memory is allocated until an object of that class is created. An object is created using the class and can use its methods and access its attributes.\n",
        "\n",
        "\n",
        "\n",
        "class Car:\n",
        "    def __init__(self, make, model, year):\n",
        "        self.make = make\n",
        "        self.model = model\n",
        "        self.year = year\n",
        "\n",
        "    def display_info(self):\n",
        "        print(f\"Car Info: {self.year} {self.make} {self.model}\")\n",
        "\n",
        "    def start_engine(self):\n",
        "        print(f\"The engine of the {self.make} {self.model} is now running.\")\n",
        "car1 = Car(\"Toyota\", \"Camry\", 2020)\n",
        "car2 = Car(\"Honda\", \"Civic\", 2019)\n",
        "\n",
        "car1.display_info()\n",
        "car2.display_info()\n",
        "car1.start_engine()\n",
        "car2.start_engine()\n"
      ],
      "metadata": {
        "colab": {
          "base_uri": "https://localhost:8080/"
        },
        "id": "Yn5psEMbKDOb",
        "outputId": "29b1b1cd-e739-4d54-f998-9594d24b534a"
      },
      "execution_count": 3,
      "outputs": [
        {
          "output_type": "stream",
          "name": "stdout",
          "text": [
            "Car Info: 2020 Toyota Camry\n",
            "Car Info: 2019 Honda Civic\n",
            "The engine of the Toyota Camry is now running.\n",
            "The engine of the Honda Civic is now running.\n"
          ]
        }
      ]
    },
    {
      "cell_type": "code",
      "source": [
        "#Q2. Name the four pillars of OOPs.\n",
        "# The four pillars of Object-Oriented Programming (OOP) are:\n",
        "\n",
        "# Encapsulation\n",
        "# Abstraction\n",
        "# Inheritance\n",
        "# Polymorphism\n",
        "\n",
        "#1.\n",
        "class BankAccount:\n",
        "    def __init__(self, balance):\n",
        "        self.__balance = balance  # Private attribute\n",
        "\n",
        "    def deposit(self, amount):\n",
        "        if amount > 0:\n",
        "            self.__balance += amount\n",
        "\n",
        "    def withdraw(self, amount):\n",
        "        if 0 < amount <= self.__balance:\n",
        "            self.__balance -= amount\n",
        "\n",
        "    def get_balance(self):\n",
        "        return self.__balance\n",
        "\n",
        "#2.\n",
        "from abc import ABC, abstractmethod\n",
        "\n",
        "class Shape(ABC):\n",
        "    @abstractmethod\n",
        "    def area(self):\n",
        "        pass\n",
        "\n",
        "class Rectangle(Shape):\n",
        "    def __init__(self, width, height):\n",
        "        self.width = width\n",
        "        self.height = height\n",
        "\n",
        "    def area(self):\n",
        "        return self.width * self.height\n",
        "\n",
        "class Circle(Shape):\n",
        "    def __init__(self, radius):\n",
        "        self.radius = radius\n",
        "\n",
        "    def area(self):\n",
        "        return 3.14 * (self.radius ** 2)\n",
        "\n",
        "\n",
        "#3.\n",
        "class Animal:\n",
        "    def __init__(self, name):\n",
        "        self.name = name\n",
        "\n",
        "    def speak(self):\n",
        "        raise NotImplementedError(\"Subclass must implement abstract method\")\n",
        "\n",
        "class Dog(Animal):\n",
        "    def speak(self):\n",
        "        return f\"{self.name} says Woof!\"\n",
        "\n",
        "class Cat(Animal):\n",
        "    def speak(self):\n",
        "        return f\"{self.name} says Meow!\"\n",
        "\n",
        "#4.\n",
        "def make_animal_speak(animal):\n",
        "    print(animal.speak())\n",
        "\n",
        "dog = Dog(\"Buddy\")\n",
        "cat = Cat(\"Whiskers\")\n",
        "\n",
        "make_animal_speak(dog)  # Output: Buddy says Woof!\n",
        "make_animal_speak(cat)  # Output: Whiskers says Meow!\n"
      ],
      "metadata": {
        "colab": {
          "base_uri": "https://localhost:8080/"
        },
        "id": "mpemeIxWKfWb",
        "outputId": "a6201820-8923-4aa1-ff5c-edfa68521802"
      },
      "execution_count": 5,
      "outputs": [
        {
          "output_type": "stream",
          "name": "stdout",
          "text": [
            "Buddy says Woof!\n",
            "Whiskers says Meow!\n"
          ]
        }
      ]
    },
    {
      "cell_type": "code",
      "source": [
        "# #Q3. Explain why the __init__() function is used. Give a suitable example.\n",
        "# The __init__ method in Python is used to initialize objects of a class. It is also known as a constructor. Let me break it down for you:\n",
        "\n",
        "# Initialization:\n",
        "# When you create an object (instance) of a class, the __init__ method is automatically called.\n",
        "# Its purpose is to initialize the object’s state by assigning values to the data members (attributes) of the class.\n",
        "# Think of it as setting up the initial properties of the object.\n",
        "\n",
        "class Person:\n",
        "    def __init__(self, name):\n",
        "        self.name = name\n",
        "\n",
        "    def say_hi(self):\n",
        "        print('Hello, my name is', self.name)\n",
        "\n",
        "p1 = Person('Maheshwari')\n",
        "p2 = Person('Bhumi')\n",
        "p3 = Person('Shally')\n",
        "\n",
        "p1.say_hi()\n",
        "p2.say_hi()\n",
        "p3.say_hi()\n"
      ],
      "metadata": {
        "colab": {
          "base_uri": "https://localhost:8080/"
        },
        "id": "dPBBoO_1LWIx",
        "outputId": "dc56504a-a84c-4dc3-dc58-25acba4f50fe"
      },
      "execution_count": 6,
      "outputs": [
        {
          "output_type": "stream",
          "name": "stdout",
          "text": [
            "Hello, my name is Maheshwari\n",
            "Hello, my name is Bhumi\n",
            "Hello, my name is Shally\n"
          ]
        }
      ]
    },
    {
      "cell_type": "code",
      "source": [
        "#Why self is used in OOPs?\n",
        "# In object-oriented programming (OOP), the `self` parameter plays a crucial role. Let me explain why it's used:\n",
        "\n",
        "# 1. **Instance Context**:\n",
        "#    - In Python, when you create an instance (object) of a class, the instance itself is automatically passed as the first argument to instance methods.\n",
        "#    - The `self` parameter refers to the specific instance of the class that the method is called on.\n",
        "#    - It allows you to access the instance's attributes and methods from within the method.\n",
        "\n",
        "# 2. **Explicitness**:\n",
        "#    - Unlike some other languages, Python does not use special syntax (like `this` in Java or C++) to refer to instance attributes.\n",
        "#    - By explicitly using `self`, Python makes methods behave like regular functions, where the instance must be explicitly passed.\n",
        "#    - This design choice emphasizes clarity and consistency.\n",
        "\n",
        "# 3. **Readability and Avoiding Bugs**:\n",
        "#    - Using `self` helps distinguish between instance attributes and local variables within a method.\n",
        "#    - It makes your code more readable and less prone to bugs.\n",
        "#    - Imagine if you had to deal with the entire block of code every time you performed a calculation—`self` simplifies that.\n",
        "\n",
        "\n",
        "\n",
        "\n",
        "class Person:\n",
        "    def __init__(self, name):\n",
        "        self.name = name\n",
        "\n",
        "    def greet(self):\n",
        "        print(f\"Hello, my name is {self.name}\")\n",
        "\n",
        "# Creating instances\n",
        "p1 = Person(\"Mayurii\")\n",
        "p2 = Person(\"Bhumii\")\n",
        "\n",
        "# Calling the method\n",
        "p1.greet()\n",
        "p2.greet()\n"
      ],
      "metadata": {
        "colab": {
          "base_uri": "https://localhost:8080/"
        },
        "id": "uB_FA3j5MDes",
        "outputId": "43742e1c-081d-4aad-d944-63d854215ecf"
      },
      "execution_count": 7,
      "outputs": [
        {
          "output_type": "stream",
          "name": "stdout",
          "text": [
            "Hello, my name is Mayurii\n",
            "Hello, my name is Bhumii\n"
          ]
        }
      ]
    },
    {
      "cell_type": "code",
      "source": [
        "#Q5. What is inheritance? Give an example for each type of inheritance.\n",
        "\n",
        "# Inheritance is a fundamental concept in object-oriented programming (OOP) that allows a class to **inherit** properties and behaviors from another class. It promotes code reusability and establishes a hierarchical relationship between classes. Let's explore the different types of inheritance and provide examples for each:\n",
        "\n",
        "# 1. **Single Inheritance**:\n",
        "#    - In single inheritance, a **subclass** (or derived class) inherits from **only one** **superclass** (or base class).\n",
        "#    - The subclass acquires all the attributes and methods of the superclass.\n",
        "\n",
        "class Animal:\n",
        "   def speak(self):\n",
        "    print(\"Animal speaks\")\n",
        "\n",
        "class Dog(Animal):\n",
        "  def bark(self):\n",
        "    print(\"Dog barks\")\n",
        "\n",
        "doggo = Dog()\n",
        "doggo.speak()\n",
        "doggo.bark()\n",
        "\n",
        "\n",
        "# 2. **Multilevel Inheritance**:\n",
        "#    - In multilevel inheritance, a class inherits from another class, which in turn inherits from yet another class.\n",
        "#    - It forms a chain of inheritance.\n",
        "\n",
        "class Animal:\n",
        "  def speak(self):\n",
        "    print(\"Animal speaks\")\n",
        "\n",
        "class Mammal(Animal):\n",
        "  def walk(self):\n",
        "    print(\"Mammal walks\")\n",
        "\n",
        "class Dog(Mammal):\n",
        "  def bark(self):\n",
        "    print(\"Dog barks\")\n",
        "\n",
        "doggo = Dog()\n",
        "doggo.speak()\n",
        "doggo.walk()\n",
        "doggo.bark()\n",
        "\n",
        "\n",
        "# 3. **Hierarchical Inheritance**:\n",
        "#    - In hierarchical inheritance, multiple subclasses inherit from a single superclass.\n",
        "#    - Each subclass can have its own additional features.\n",
        "\n",
        "class Animal:\n",
        "  def speak(self):\n",
        "    print(\"Animal speaks\")\n",
        "\n",
        "class Cat(Animal):\n",
        "  def meow(self):\n",
        "    print(\"Cat meows\")\n",
        "\n",
        "class Dog(Animal):\n",
        "  def bark(self):\n",
        "    print(\"Dog barks\")\n",
        "\n",
        "kitty = Cat()\n",
        "doggo = Dog()\n",
        "\n",
        "kitty.speak()\n",
        "kitty.meow()\n",
        "\n",
        "doggo.speak()\n",
        "doggo.bark()\n",
        "\n",
        "# 4. **Hybrid Inheritance**:\n",
        "#    - Hybrid inheritance combines multiple types of inheritance (e.g., single, multiple, or multilevel) within a single class hierarchy.\n",
        "#    - It's less common but can be useful in complex scenarios.\n",
        "\n",
        "class Animal:\n",
        "  def speak(self):\n",
        "    print(\"Animal speaks\")\n",
        "\n",
        "class Mammal(Animal):\n",
        "  def walk(self):\n",
        "    print(\"Mammal walks\")\n",
        "\n",
        "class Bird(Animal):\n",
        "  def fly(self):\n",
        "    print(\"Bird flies\")\n",
        "\n",
        "class Bat(Mammal, Bird):\n",
        "  def echolocation(self):\n",
        "    print(\"Bat uses echolocation\")\n",
        "\n",
        "batman = Bat()\n",
        "batman.speak()\n",
        "batman.walk()\n",
        "batman.fly()\n",
        "batman.echolocation()\n",
        ""
      ],
      "metadata": {
        "colab": {
          "base_uri": "https://localhost:8080/"
        },
        "id": "OMtFxpwLMlXm",
        "outputId": "7586d85a-6162-4501-a622-00162a5f0eed"
      },
      "execution_count": 9,
      "outputs": [
        {
          "output_type": "stream",
          "name": "stdout",
          "text": [
            "Animal speaks\n",
            "Dog barks\n",
            "Animal speaks\n",
            "Mammal walks\n",
            "Dog barks\n",
            "Animal speaks\n",
            "Cat meows\n",
            "Animal speaks\n",
            "Dog barks\n",
            "Animal speaks\n",
            "Mammal walks\n",
            "Bird flies\n",
            "Bat uses echolocation\n"
          ]
        }
      ]
    }
  ]
}